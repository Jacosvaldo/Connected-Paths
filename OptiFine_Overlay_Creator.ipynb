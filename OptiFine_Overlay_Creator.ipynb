{
  "nbformat": 4,
  "nbformat_minor": 0,
  "metadata": {
    "colab": {
      "provenance": []
    },
    "kernelspec": {
      "name": "python3",
      "display_name": "Python 3"
    },
    "language_info": {
      "name": "python"
    }
  },
  "cells": [
    {
      "cell_type": "markdown",
      "source": [
        "#How to use\n",
        "<font size=4>To use it, just run the code blocks one by one, reading and following the notes.\n",
        "This first block of code will probably return \"Requirement already satisfied\", it was here just for precaution</font>"
      ],
      "metadata": {
        "id": "y2ZaWlSgd2Ie"
      }
    },
    {
      "cell_type": "code",
      "execution_count": null,
      "metadata": {
        "id": "PZGhsTtUHDjz"
      },
      "outputs": [],
      "source": [
        "pip install pillow\n"
      ]
    },
    {
      "cell_type": "markdown",
      "source": [
        "#Upload your archive\n",
        "\n",
        "<font size=4>Run the code block below and a button to upload your archive will appear bellow it\n",
        "\n",
        "Upload your base textue as an 48x48 image like this example:</font>\n",
        "![example](https://i.imgur.com/ySAuADq.gif)\n",
        "\n",
        "<font size=4>Each red and blue squares are 16x16 texture and the orange won't be used so it could be empty</font>"
      ],
      "metadata": {
        "id": "34-nZtNHVwJt"
      }
    },
    {
      "cell_type": "code",
      "source": [
        "from google.colab import files\n",
        "\n",
        "# Prompts the user to upload the file\n",
        "uploaded = files.upload()\n",
        "\n",
        "# Check if the file was sent correctly\n",
        "for filename in uploaded.keys():\n",
        "    print(f'Archive \"{filename}\" was send successfully. Reading it...')\n",
        "\n",
        "    # Rename the archive to input.png\n",
        "    import os\n",
        "    os.rename(filename, 'input.png')\n",
        "\n",
        "    # Display confirmation message\n",
        "    print(f'Arquivo renomeado para \"input.png\".')"
      ],
      "metadata": {
        "id": "NIiYaO3CNVFq"
      },
      "execution_count": null,
      "outputs": []
    },
    {
      "cell_type": "markdown",
      "source": [
        "# Download\n",
        "\n",
        "Just run the code block bellow and the textures will be downloaded inside a zip file"
      ],
      "metadata": {
        "id": "YQKygCPzXSxG"
      }
    },
    {
      "cell_type": "code",
      "source": [
        "from PIL import Image\n",
        "import os\n",
        "import zipfile\n",
        "\n",
        "# Function to compose images\n",
        "def compose_images(base_image, overlay_coords, output_path):\n",
        "    new_image = Image.new(\"RGBA\", (16, 16))\n",
        "    for x, y in overlay_coords:\n",
        "        box = (x * 16, y * 16, (x + 1) * 16, (y + 1) * 16)\n",
        "        part = base_image.crop(box)\n",
        "        new_image = Image.alpha_composite(new_image, part)\n",
        "    new_image.save(output_path)\n",
        "\n",
        "# Load the base image\n",
        "base_image = Image.open(\"input.png\")\n",
        "\n",
        "# Define the overlays\n",
        "overlays = {\n",
        "    0: [(0, 0)],\n",
        "    1: [(1, 0)],\n",
        "    2: [(2, 0)],\n",
        "    3: [(1, 0), (0, 1)],\n",
        "    4: [(1, 0), (2, 1)],\n",
        "    5: [(1, 0), (0, 1), (2, 1)],\n",
        "    6: [(1, 0), (2, 1), (1, 2)],\n",
        "    7: [(0, 1)],\n",
        "    8: [(1, 0), (0, 1), (2, 1), (1, 2)],\n",
        "    9: [(2, 1)],\n",
        "    10: [(0, 1), (1, 2)],\n",
        "    11: [(2, 1), (1, 2)],\n",
        "    12: [(0, 1), (1, 0), (1, 2)],\n",
        "    13: [(0, 1), (2, 1), (1, 2)],\n",
        "    14: [(0, 2)],\n",
        "    15: [(1, 2)],\n",
        "    16: [(2, 2)]\n",
        "}\n",
        "\n",
        "# Create a directory for the generated images\n",
        "output_dir = \"output_images\"\n",
        "os.makedirs(output_dir, exist_ok=True)\n",
        "\n",
        "# Generate the images\n",
        "for key, coords in overlays.items():\n",
        "    output_path = os.path.join(output_dir, f\"{key}.png\")\n",
        "    compose_images(base_image, coords, output_path)\n",
        "\n",
        "# Compress images into a zip file\n",
        "zip_filename = \"generated_images.zip\"\n",
        "with zipfile.ZipFile(zip_filename, 'w') as zipf:\n",
        "    for root, _, files in os.walk(output_dir):\n",
        "        for file in files:\n",
        "            zipf.write(os.path.join(root, file), os.path.relpath(os.path.join(root, file), output_dir))\n",
        "\n",
        "# Provide a download link\n",
        "from google.colab import files\n",
        "files.download(zip_filename)\n",
        "\n"
      ],
      "metadata": {
        "id": "Y8DmVMAHHJRa"
      },
      "execution_count": null,
      "outputs": []
    }
  ]
}